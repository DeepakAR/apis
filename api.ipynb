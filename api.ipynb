{
  "nbformat": 4,
  "nbformat_minor": 0,
  "metadata": {
    "colab": {
      "provenance": [],
      "authorship_tag": "ABX9TyNFumbcZ5hAYgyJcGX5MIiE",
      "include_colab_link": true
    },
    "kernelspec": {
      "name": "python3",
      "display_name": "Python 3"
    },
    "language_info": {
      "name": "python"
    }
  },
  "cells": [
    {
      "cell_type": "markdown",
      "metadata": {
        "id": "view-in-github",
        "colab_type": "text"
      },
      "source": [
        "<a href=\"https://colab.research.google.com/github/DeepakAR/apis/blob/main/api.ipynb\" target=\"_parent\"><img src=\"https://colab.research.google.com/assets/colab-badge.svg\" alt=\"Open In Colab\"/></a>"
      ]
    },
    {
      "cell_type": "code",
      "execution_count": null,
      "metadata": {
        "colab": {
          "base_uri": "https://localhost:8080/"
        },
        "id": "BYhIBpPuc2k5",
        "outputId": "00b294aa-7454-43e4-93ea-c1b61c9715f1"
      },
      "outputs": [
        {
          "output_type": "stream",
          "name": "stdout",
          "text": [
            "Requirement already satisfied: requests in /usr/local/lib/python3.11/dist-packages (2.32.3)\n",
            "Requirement already satisfied: charset-normalizer<4,>=2 in /usr/local/lib/python3.11/dist-packages (from requests) (3.4.2)\n",
            "Requirement already satisfied: idna<4,>=2.5 in /usr/local/lib/python3.11/dist-packages (from requests) (3.10)\n",
            "Requirement already satisfied: urllib3<3,>=1.21.1 in /usr/local/lib/python3.11/dist-packages (from requests) (2.4.0)\n",
            "Requirement already satisfied: certifi>=2017.4.17 in /usr/local/lib/python3.11/dist-packages (from requests) (2025.6.15)\n"
          ]
        }
      ],
      "source": [
        "!pip install requests"
      ]
    },
    {
      "cell_type": "code",
      "source": [
        "import requests\n",
        "url=\"https://official-joke-api.appspot.com/random_joke\"\n",
        "response=requests.get(url)\n",
        "data=response.json()\n",
        "print(\"JOke:\")\n",
        "print(data['setup'])\n",
        "print(data['punchline'])\n",
        "#print(response.text)"
      ],
      "metadata": {
        "id": "QXBbgKt_c8sX",
        "colab": {
          "base_uri": "https://localhost:8080/"
        },
        "outputId": "d9e001ad-0b4a-4b9e-9d96-bbb195146520"
      },
      "execution_count": null,
      "outputs": [
        {
          "output_type": "stream",
          "name": "stdout",
          "text": [
            "JOke:\n",
            "How do you make a tissue dance?\n",
            "You put a little boogie on it.\n"
          ]
        }
      ]
    },
    {
      "cell_type": "code",
      "source": [
        "city='Kamandalagondi'\n",
        "url=f\"https://wttr.in/{city}?format=j1\"\n",
        "response=requests.get(url)\n",
        "data=response.json()\n",
        "print(data)\n",
        "print(\"rain in\",city,\"is\",data['weather'][0]['hourly'][2]['chanceofrain'])"
      ],
      "metadata": {
        "colab": {
          "base_uri": "https://localhost:8080/"
        },
        "id": "3wPhEIAve_8F",
        "outputId": "263a77c0-419b-4a82-8a0b-49edf0be8d6e"
      },
      "execution_count": null,
      "outputs": [
        {
          "output_type": "stream",
          "name": "stdout",
          "text": [
            "{'current_condition': [{'FeelsLikeC': '26', 'FeelsLikeF': '78', 'cloudcover': '23', 'humidity': '73', 'localObsDateTime': '2025-07-09 07:49 PM', 'observation_time': '02:19 PM', 'precipInches': '0.0', 'precipMM': '0.0', 'pressure': '1009', 'pressureInches': '30', 'temp_C': '24', 'temp_F': '75', 'uvIndex': '0', 'visibility': '10', 'visibilityMiles': '6', 'weatherCode': '113', 'weatherDesc': [{'value': 'Clear'}], 'weatherIconUrl': [{'value': ''}], 'winddir16Point': 'W', 'winddirDegree': '260', 'windspeedKmph': '28', 'windspeedMiles': '17'}], 'nearest_area': [{'areaName': [{'value': 'Jagalur'}], 'country': [{'value': 'India'}], 'latitude': '14.533', 'longitude': '76.350', 'population': '15789', 'region': [{'value': 'Karnataka'}], 'weatherUrl': [{'value': ''}]}], 'request': [{'query': 'Lat 14.53 and Lon 76.49', 'type': 'LatLon'}], 'weather': [{'astronomy': [{'moon_illumination': '96', 'moon_phase': 'Waxing Gibbous', 'moonrise': '05:54 PM', 'moonset': '04:20 AM', 'sunrise': '06:02 AM', 'sunset': '06:57 PM'}], 'avgtempC': '24', 'avgtempF': '75', 'date': '2025-07-09', 'hourly': [{'DewPointC': '19', 'DewPointF': '66', 'FeelsLikeC': '22', 'FeelsLikeF': '71', 'HeatIndexC': '24', 'HeatIndexF': '76', 'WindChillC': '22', 'WindChillF': '71', 'WindGustKmph': '37', 'WindGustMiles': '23', 'chanceoffog': '0', 'chanceoffrost': '0', 'chanceofhightemp': '0', 'chanceofovercast': '46', 'chanceofrain': '0', 'chanceofremdry': '81', 'chanceofsnow': '0', 'chanceofsunshine': '72', 'chanceofthunder': '0', 'chanceofwindy': '0', 'cloudcover': '50', 'diffRad': '0.0', 'humidity': '84', 'precipInches': '0.0', 'precipMM': '0.0', 'pressure': '1010', 'pressureInches': '30', 'shortRad': '0.0', 'tempC': '22', 'tempF': '71', 'time': '0', 'uvIndex': '0', 'visibility': '10', 'visibilityMiles': '6', 'weatherCode': '116', 'weatherDesc': [{'value': 'Partly Cloudy '}], 'weatherIconUrl': [{'value': ''}], 'winddir16Point': 'WSW', 'winddirDegree': '250', 'windspeedKmph': '26', 'windspeedMiles': '16'}, {'DewPointC': '19', 'DewPointF': '67', 'FeelsLikeC': '21', 'FeelsLikeF': '70', 'HeatIndexC': '24', 'HeatIndexF': '76', 'WindChillC': '21', 'WindChillF': '70', 'WindGustKmph': '35', 'WindGustMiles': '22', 'chanceoffog': '0', 'chanceoffrost': '0', 'chanceofhightemp': '0', 'chanceofovercast': '89', 'chanceofrain': '66', 'chanceofremdry': '0', 'chanceofsnow': '0', 'chanceofsunshine': '0', 'chanceofthunder': '0', 'chanceofwindy': '0', 'cloudcover': '75', 'diffRad': '0.0', 'humidity': '88', 'precipInches': '0.0', 'precipMM': '0.0', 'pressure': '1009', 'pressureInches': '30', 'shortRad': '0.0', 'tempC': '21', 'tempF': '70', 'time': '300', 'uvIndex': '0', 'visibility': '10', 'visibilityMiles': '6', 'weatherCode': '176', 'weatherDesc': [{'value': 'Patchy rain nearby'}], 'weatherIconUrl': [{'value': ''}], 'winddir16Point': 'WSW', 'winddirDegree': '253', 'windspeedKmph': '25', 'windspeedMiles': '16'}, {'DewPointC': '19', 'DewPointF': '65', 'FeelsLikeC': '22', 'FeelsLikeF': '71', 'HeatIndexC': '24', 'HeatIndexF': '76', 'WindChillC': '22', 'WindChillF': '71', 'WindGustKmph': '40', 'WindGustMiles': '25', 'chanceoffog': '0', 'chanceoffrost': '0', 'chanceofhightemp': '0', 'chanceofovercast': '46', 'chanceofrain': '0', 'chanceofremdry': '92', 'chanceofsnow': '0', 'chanceofsunshine': '83', 'chanceofthunder': '0', 'chanceofwindy': '0', 'cloudcover': '46', 'diffRad': '2.7', 'humidity': '82', 'precipInches': '0.0', 'precipMM': '0.0', 'pressure': '1010', 'pressureInches': '30', 'shortRad': '5.1', 'tempC': '22', 'tempF': '71', 'time': '600', 'uvIndex': '0', 'visibility': '10', 'visibilityMiles': '6', 'weatherCode': '116', 'weatherDesc': [{'value': 'Partly Cloudy '}], 'weatherIconUrl': [{'value': ''}], 'winddir16Point': 'WSW', 'winddirDegree': '252', 'windspeedKmph': '29', 'windspeedMiles': '18'}, {'DewPointC': '19', 'DewPointF': '66', 'FeelsLikeC': '26', 'FeelsLikeF': '78', 'HeatIndexC': '26', 'HeatIndexF': '78', 'WindChillC': '24', 'WindChillF': '75', 'WindGustKmph': '41', 'WindGustMiles': '25', 'chanceoffog': '0', 'chanceoffrost': '0', 'chanceofhightemp': '10', 'chanceofovercast': '90', 'chanceofrain': '74', 'chanceofremdry': '0', 'chanceofsnow': '0', 'chanceofsunshine': '0', 'chanceofthunder': '0', 'chanceofwindy': '0', 'cloudcover': '81', 'diffRad': '61.8', 'humidity': '74', 'precipInches': '0.0', 'precipMM': '0.0', 'pressure': '1011', 'pressureInches': '30', 'shortRad': '120.8', 'tempC': '24', 'tempF': '75', 'time': '900', 'uvIndex': '2', 'visibility': '10', 'visibilityMiles': '6', 'weatherCode': '176', 'weatherDesc': [{'value': 'Patchy rain nearby'}], 'weatherIconUrl': [{'value': ''}], 'winddir16Point': 'WSW', 'winddirDegree': '256', 'windspeedKmph': '33', 'windspeedMiles': '21'}, {'DewPointC': '19', 'DewPointF': '66', 'FeelsLikeC': '28', 'FeelsLikeF': '82', 'HeatIndexC': '28', 'HeatIndexF': '82', 'WindChillC': '26', 'WindChillF': '79', 'WindGustKmph': '42', 'WindGustMiles': '26', 'chanceoffog': '0', 'chanceoffrost': '0', 'chanceofhightemp': '98', 'chanceofovercast': '93', 'chanceofrain': '89', 'chanceofremdry': '0', 'chanceofsnow': '0', 'chanceofsunshine': '0', 'chanceofthunder': '0', 'chanceofwindy': '0', 'cloudcover': '73', 'diffRad': '291.3', 'humidity': '64', 'precipInches': '0.0', 'precipMM': '0.0', 'pressure': '1009', 'pressureInches': '30', 'shortRad': '513.1', 'tempC': '26', 'tempF': '79', 'time': '1200', 'uvIndex': '6', 'visibility': '10', 'visibilityMiles': '6', 'weatherCode': '176', 'weatherDesc': [{'value': 'Patchy rain nearby'}], 'weatherIconUrl': [{'value': ''}], 'winddir16Point': 'W', 'winddirDegree': '268', 'windspeedKmph': '37', 'windspeedMiles': '23'}, {'DewPointC': '18', 'DewPointF': '65', 'FeelsLikeC': '29', 'FeelsLikeF': '84', 'HeatIndexC': '29', 'HeatIndexF': '84', 'WindChillC': '28', 'WindChillF': '82', 'WindGustKmph': '41', 'WindGustMiles': '25', 'chanceoffog': '0', 'chanceoffrost': '0', 'chanceofhightemp': '97', 'chanceofovercast': '92', 'chanceofrain': '78', 'chanceofremdry': '0', 'chanceofsnow': '0', 'chanceofsunshine': '0', 'chanceofthunder': '0', 'chanceofwindy': '0', 'cloudcover': '63', 'diffRad': '225.9', 'humidity': '57', 'precipInches': '0.0', 'precipMM': '0.0', 'pressure': '1007', 'pressureInches': '30', 'shortRad': '416.8', 'tempC': '28', 'tempF': '82', 'time': '1500', 'uvIndex': '3', 'visibility': '10', 'visibilityMiles': '6', 'weatherCode': '176', 'weatherDesc': [{'value': 'Patchy rain nearby'}], 'weatherIconUrl': [{'value': ''}], 'winddir16Point': 'W', 'winddirDegree': '274', 'windspeedKmph': '36', 'windspeedMiles': '22'}, {'DewPointC': '19', 'DewPointF': '66', 'FeelsLikeC': '27', 'FeelsLikeF': '80', 'HeatIndexC': '27', 'HeatIndexF': '80', 'WindChillC': '25', 'WindChillF': '77', 'WindGustKmph': '41', 'WindGustMiles': '26', 'chanceoffog': '0', 'chanceoffrost': '0', 'chanceofhightemp': '54', 'chanceofovercast': '48', 'chanceofrain': '0', 'chanceofremdry': '84', 'chanceofsnow': '0', 'chanceofsunshine': '87', 'chanceofthunder': '0', 'chanceofwindy': '0', 'cloudcover': '48', 'diffRad': '60.2', 'humidity': '68', 'precipInches': '0.0', 'precipMM': '0.0', 'pressure': '1008', 'pressureInches': '30', 'shortRad': '121.6', 'tempC': '25', 'tempF': '77', 'time': '1800', 'uvIndex': '0', 'visibility': '10', 'visibilityMiles': '6', 'weatherCode': '116', 'weatherDesc': [{'value': 'Partly Cloudy '}], 'weatherIconUrl': [{'value': ''}], 'winddir16Point': 'WSW', 'winddirDegree': '259', 'windspeedKmph': '32', 'windspeedMiles': '20'}, {'DewPointC': '19', 'DewPointF': '66', 'FeelsLikeC': '25', 'FeelsLikeF': '76', 'HeatIndexC': '25', 'HeatIndexF': '76', 'WindChillC': '22', 'WindChillF': '72', 'WindGustKmph': '38', 'WindGustMiles': '23', 'chanceoffog': '0', 'chanceoffrost': '0', 'chanceofhightemp': '0', 'chanceofovercast': '45', 'chanceofrain': '0', 'chanceofremdry': '91', 'chanceofsnow': '0', 'chanceofsunshine': '76', 'chanceofthunder': '0', 'chanceofwindy': '0', 'cloudcover': '32', 'diffRad': '16.0', 'humidity': '80', 'precipInches': '0.0', 'precipMM': '0.0', 'pressure': '1010', 'pressureInches': '30', 'shortRad': '32.3', 'tempC': '22', 'tempF': '72', 'time': '2100', 'uvIndex': '0', 'visibility': '10', 'visibilityMiles': '6', 'weatherCode': '116', 'weatherDesc': [{'value': 'Partly Cloudy '}], 'weatherIconUrl': [{'value': ''}], 'winddir16Point': 'WSW', 'winddirDegree': '258', 'windspeedKmph': '27', 'windspeedMiles': '17'}], 'maxtempC': '28', 'maxtempF': '82', 'mintempC': '21', 'mintempF': '70', 'sunHour': '11.0', 'totalSnow_cm': '0.0', 'uvIndex': '2'}, {'astronomy': [{'moon_illumination': '99', 'moon_phase': 'Full Moon', 'moonrise': '06:47 PM', 'moonset': '05:15 AM', 'sunrise': '06:02 AM', 'sunset': '06:57 PM'}], 'avgtempC': '24', 'avgtempF': '75', 'date': '2025-07-10', 'hourly': [{'DewPointC': '19', 'DewPointF': '66', 'FeelsLikeC': '22', 'FeelsLikeF': '71', 'HeatIndexC': '24', 'HeatIndexF': '76', 'WindChillC': '22', 'WindChillF': '71', 'WindGustKmph': '34', 'WindGustMiles': '21', 'chanceoffog': '0', 'chanceoffrost': '0', 'chanceofhightemp': '0', 'chanceofovercast': '87', 'chanceofrain': '63', 'chanceofremdry': '0', 'chanceofsnow': '0', 'chanceofsunshine': '0', 'chanceofthunder': '0', 'chanceofwindy': '0', 'cloudcover': '69', 'diffRad': '0.0', 'humidity': '85', 'precipInches': '0.0', 'precipMM': '0.0', 'pressure': '1009', 'pressureInches': '30', 'shortRad': '0.0', 'tempC': '22', 'tempF': '71', 'time': '0', 'uvIndex': '0', 'visibility': '10', 'visibilityMiles': '6', 'weatherCode': '176', 'weatherDesc': [{'value': 'Patchy rain nearby'}], 'weatherIconUrl': [{'value': ''}], 'winddir16Point': 'WSW', 'winddirDegree': '253', 'windspeedKmph': '24', 'windspeedMiles': '15'}, {'DewPointC': '19', 'DewPointF': '66', 'FeelsLikeC': '21', 'FeelsLikeF': '70', 'HeatIndexC': '24', 'HeatIndexF': '76', 'WindChillC': '21', 'WindChillF': '70', 'WindGustKmph': '37', 'WindGustMiles': '23', 'chanceoffog': '0', 'chanceoffrost': '0', 'chanceofhightemp': '0', 'chanceofovercast': '47', 'chanceofrain': '0', 'chanceofremdry': '93', 'chanceofsnow': '0', 'chanceofsunshine': '89', 'chanceofthunder': '0', 'chanceofwindy': '0', 'cloudcover': '54', 'diffRad': '0.0', 'humidity': '85', 'precipInches': '0.0', 'precipMM': '0.0', 'pressure': '1008', 'pressureInches': '30', 'shortRad': '0.0', 'tempC': '21', 'tempF': '70', 'time': '300', 'uvIndex': '0', 'visibility': '10', 'visibilityMiles': '6', 'weatherCode': '116', 'weatherDesc': [{'value': 'Partly Cloudy '}], 'weatherIconUrl': [{'value': ''}], 'winddir16Point': 'WSW', 'winddirDegree': '254', 'windspeedKmph': '26', 'windspeedMiles': '16'}, {'DewPointC': '19', 'DewPointF': '66', 'FeelsLikeC': '21', 'FeelsLikeF': '70', 'HeatIndexC': '24', 'HeatIndexF': '76', 'WindChillC': '21', 'WindChillF': '70', 'WindGustKmph': '34', 'WindGustMiles': '21', 'chanceoffog': '0', 'chanceoffrost': '0', 'chanceofhightemp': '0', 'chanceofovercast': '83', 'chanceofrain': '0', 'chanceofremdry': '85', 'chanceofsnow': '0', 'chanceofsunshine': '11', 'chanceofthunder': '0', 'chanceofwindy': '0', 'cloudcover': '66', 'diffRad': '2.8', 'humidity': '86', 'precipInches': '0.0', 'precipMM': '0.0', 'pressure': '1009', 'pressureInches': '30', 'shortRad': '5.6', 'tempC': '21', 'tempF': '70', 'time': '600', 'uvIndex': '0', 'visibility': '10', 'visibilityMiles': '6', 'weatherCode': '119', 'weatherDesc': [{'value': 'Cloudy '}], 'weatherIconUrl': [{'value': ''}], 'winddir16Point': 'WSW', 'winddirDegree': '251', 'windspeedKmph': '24', 'windspeedMiles': '15'}, {'DewPointC': '19', 'DewPointF': '66', 'FeelsLikeC': '26', 'FeelsLikeF': '79', 'HeatIndexC': '26', 'HeatIndexF': '79', 'WindChillC': '24', 'WindChillF': '76', 'WindGustKmph': '39', 'WindGustMiles': '24', 'chanceoffog': '0', 'chanceoffrost': '0', 'chanceofhightemp': '15', 'chanceofovercast': '84', 'chanceofrain': '72', 'chanceofremdry': '0', 'chanceofsnow': '0', 'chanceofsunshine': '0', 'chanceofthunder': '0', 'chanceofwindy': '0', 'cloudcover': '87', 'diffRad': '92.1', 'humidity': '71', 'precipInches': '0.0', 'precipMM': '0.0', 'pressure': '1010', 'pressureInches': '30', 'shortRad': '205.8', 'tempC': '24', 'tempF': '76', 'time': '900', 'uvIndex': '5', 'visibility': '10', 'visibilityMiles': '6', 'weatherCode': '176', 'weatherDesc': [{'value': 'Patchy rain nearby'}], 'weatherIconUrl': [{'value': ''}], 'winddir16Point': 'W', 'winddirDegree': '266', 'windspeedKmph': '33', 'windspeedMiles': '21'}, {'DewPointC': '19', 'DewPointF': '66', 'FeelsLikeC': '27', 'FeelsLikeF': '81', 'HeatIndexC': '27', 'HeatIndexF': '81', 'WindChillC': '26', 'WindChillF': '79', 'WindGustKmph': '38', 'WindGustMiles': '24', 'chanceoffog': '0', 'chanceoffrost': '0', 'chanceofhightemp': '89', 'chanceofovercast': '82', 'chanceofrain': '65', 'chanceofremdry': '0', 'chanceofsnow': '0', 'chanceofsunshine': '0', 'chanceofthunder': '0', 'chanceofwindy': '0', 'cloudcover': '69', 'diffRad': '339.0', 'humidity': '64', 'precipInches': '0.0', 'precipMM': '0.0', 'pressure': '1009', 'pressureInches': '30', 'shortRad': '642.2', 'tempC': '26', 'tempF': '79', 'time': '1200', 'uvIndex': '11', 'visibility': '10', 'visibilityMiles': '6', 'weatherCode': '176', 'weatherDesc': [{'value': 'Patchy rain nearby'}], 'weatherIconUrl': [{'value': ''}], 'winddir16Point': 'W', 'winddirDegree': '268', 'windspeedKmph': '33', 'windspeedMiles': '21'}, {'DewPointC': '18', 'DewPointF': '64', 'FeelsLikeC': '30', 'FeelsLikeF': '86', 'HeatIndexC': '30', 'HeatIndexF': '86', 'WindChillC': '29', 'WindChillF': '84', 'WindGustKmph': '39', 'WindGustMiles': '24', 'chanceoffog': '0', 'chanceoffrost': '0', 'chanceofhightemp': '92', 'chanceofovercast': '86', 'chanceofrain': '76', 'chanceofremdry': '0', 'chanceofsnow': '0', 'chanceofsunshine': '0', 'chanceofthunder': '0', 'chanceofwindy': '0', 'cloudcover': '72', 'diffRad': '286.9', 'humidity': '50', 'precipInches': '0.0', 'precipMM': '0.0', 'pressure': '1006', 'pressureInches': '30', 'shortRad': '703.6', 'tempC': '29', 'tempF': '84', 'time': '1500', 'uvIndex': '5', 'visibility': '10', 'visibilityMiles': '6', 'weatherCode': '176', 'weatherDesc': [{'value': 'Patchy rain nearby'}], 'weatherIconUrl': [{'value': ''}], 'winddir16Point': 'W', 'winddirDegree': '268', 'windspeedKmph': '34', 'windspeedMiles': '21'}, {'DewPointC': '18', 'DewPointF': '64', 'FeelsLikeC': '27', 'FeelsLikeF': '81', 'HeatIndexC': '27', 'HeatIndexF': '81', 'WindChillC': '26', 'WindChillF': '79', 'WindGustKmph': '39', 'WindGustMiles': '24', 'chanceoffog': '0', 'chanceoffrost': '0', 'chanceofhightemp': '74', 'chanceofovercast': '89', 'chanceofrain': '78', 'chanceofremdry': '0', 'chanceofsnow': '0', 'chanceofsunshine': '0', 'chanceofthunder': '0', 'chanceofwindy': '0', 'cloudcover': '74', 'diffRad': '45.0', 'humidity': '62', 'precipInches': '0.0', 'precipMM': '0.0', 'pressure': '1008', 'pressureInches': '30', 'shortRad': '131.3', 'tempC': '26', 'tempF': '79', 'time': '1800', 'uvIndex': '0', 'visibility': '10', 'visibilityMiles': '6', 'weatherCode': '176', 'weatherDesc': [{'value': 'Patchy rain nearby'}], 'weatherIconUrl': [{'value': ''}], 'winddir16Point': 'W', 'winddirDegree': '267', 'windspeedKmph': '30', 'windspeedMiles': '19'}, {'DewPointC': '19', 'DewPointF': '66', 'FeelsLikeC': '25', 'FeelsLikeF': '77', 'HeatIndexC': '25', 'HeatIndexF': '77', 'WindChillC': '23', 'WindChillF': '73', 'WindGustKmph': '35', 'WindGustMiles': '22', 'chanceoffog': '0', 'chanceoffrost': '0', 'chanceofhightemp': '0', 'chanceofovercast': '33', 'chanceofrain': '0', 'chanceofremdry': '86', 'chanceofsnow': '0', 'chanceofsunshine': '75', 'chanceofthunder': '0', 'chanceofwindy': '0', 'cloudcover': '28', 'diffRad': '12.2', 'humidity': '79', 'precipInches': '0.0', 'precipMM': '0.0', 'pressure': '1010', 'pressureInches': '30', 'shortRad': '34.8', 'tempC': '23', 'tempF': '73', 'time': '2100', 'uvIndex': '0', 'visibility': '10', 'visibilityMiles': '6', 'weatherCode': '116', 'weatherDesc': [{'value': 'Partly Cloudy '}], 'weatherIconUrl': [{'value': ''}], 'winddir16Point': 'W', 'winddirDegree': '259', 'windspeedKmph': '26', 'windspeedMiles': '16'}], 'maxtempC': '29', 'maxtempF': '84', 'mintempC': '21', 'mintempF': '70', 'sunHour': '10.0', 'totalSnow_cm': '0.0', 'uvIndex': '3'}, {'astronomy': [{'moon_illumination': '100', 'moon_phase': 'Waning Gibbous', 'moonrise': '07:38 PM', 'moonset': '06:12 AM', 'sunrise': '06:03 AM', 'sunset': '06:57 PM'}], 'avgtempC': '24', 'avgtempF': '76', 'date': '2025-07-11', 'hourly': [{'DewPointC': '19', 'DewPointF': '66', 'FeelsLikeC': '21', 'FeelsLikeF': '70', 'HeatIndexC': '24', 'HeatIndexF': '76', 'WindChillC': '21', 'WindChillF': '70', 'WindGustKmph': '34', 'WindGustMiles': '21', 'chanceoffog': '0', 'chanceoffrost': '0', 'chanceofhightemp': '0', 'chanceofovercast': '92', 'chanceofrain': '0', 'chanceofremdry': '94', 'chanceofsnow': '0', 'chanceofsunshine': '17', 'chanceofthunder': '0', 'chanceofwindy': '0', 'cloudcover': '75', 'diffRad': '0.0', 'humidity': '87', 'precipInches': '0.0', 'precipMM': '0.0', 'pressure': '1009', 'pressureInches': '30', 'shortRad': '0.0', 'tempC': '21', 'tempF': '70', 'time': '0', 'uvIndex': '0', 'visibility': '10', 'visibilityMiles': '6', 'weatherCode': '119', 'weatherDesc': [{'value': 'Cloudy '}], 'weatherIconUrl': [{'value': ''}], 'winddir16Point': 'WSW', 'winddirDegree': '253', 'windspeedKmph': '24', 'windspeedMiles': '15'}, {'DewPointC': '19', 'DewPointF': '66', 'FeelsLikeC': '21', 'FeelsLikeF': '70', 'HeatIndexC': '21', 'HeatIndexF': '70', 'WindChillC': '21', 'WindChillF': '70', 'WindGustKmph': '34', 'WindGustMiles': '21', 'chanceoffog': '0', 'chanceoffrost': '0', 'chanceofhightemp': '0', 'chanceofovercast': '92', 'chanceofrain': '71', 'chanceofremdry': '0', 'chanceofsnow': '0', 'chanceofsunshine': '0', 'chanceofthunder': '0', 'chanceofwindy': '0', 'cloudcover': '82', 'diffRad': '0.0', 'humidity': '87', 'precipInches': '0.0', 'precipMM': '0.0', 'pressure': '1008', 'pressureInches': '30', 'shortRad': '0.0', 'tempC': '21', 'tempF': '70', 'time': '300', 'uvIndex': '0', 'visibility': '10', 'visibilityMiles': '6', 'weatherCode': '176', 'weatherDesc': [{'value': 'Patchy rain nearby'}], 'weatherIconUrl': [{'value': ''}], 'winddir16Point': 'WSW', 'winddirDegree': '256', 'windspeedKmph': '25', 'windspeedMiles': '16'}, {'DewPointC': '19', 'DewPointF': '66', 'FeelsLikeC': '22', 'FeelsLikeF': '71', 'HeatIndexC': '24', 'HeatIndexF': '76', 'WindChillC': '22', 'WindChillF': '71', 'WindGustKmph': '34', 'WindGustMiles': '21', 'chanceoffog': '0', 'chanceoffrost': '0', 'chanceofhightemp': '0', 'chanceofovercast': '47', 'chanceofrain': '0', 'chanceofremdry': '92', 'chanceofsnow': '0', 'chanceofsunshine': '87', 'chanceofthunder': '0', 'chanceofwindy': '0', 'cloudcover': '52', 'diffRad': '1.5', 'humidity': '84', 'precipInches': '0.0', 'precipMM': '0.0', 'pressure': '1009', 'pressureInches': '30', 'shortRad': '2.5', 'tempC': '22', 'tempF': '71', 'time': '600', 'uvIndex': '0', 'visibility': '10', 'visibilityMiles': '6', 'weatherCode': '116', 'weatherDesc': [{'value': 'Partly Cloudy '}], 'weatherIconUrl': [{'value': ''}], 'winddir16Point': 'WSW', 'winddirDegree': '255', 'windspeedKmph': '25', 'windspeedMiles': '15'}, {'DewPointC': '18', 'DewPointF': '65', 'FeelsLikeC': '26', 'FeelsLikeF': '79', 'HeatIndexC': '26', 'HeatIndexF': '79', 'WindChillC': '25', 'WindChillF': '76', 'WindGustKmph': '37', 'WindGustMiles': '23', 'chanceoffog': '0', 'chanceoffrost': '0', 'chanceofhightemp': '16', 'chanceofovercast': '93', 'chanceofrain': '71', 'chanceofremdry': '0', 'chanceofsnow': '0', 'chanceofsunshine': '0', 'chanceofthunder': '0', 'chanceofwindy': '0', 'cloudcover': '85', 'diffRad': '97.3', 'humidity': '67', 'precipInches': '0.0', 'precipMM': '0.0', 'pressure': '1010', 'pressureInches': '30', 'shortRad': '211.1', 'tempC': '25', 'tempF': '76', 'time': '900', 'uvIndex': '5', 'visibility': '10', 'visibilityMiles': '6', 'weatherCode': '176', 'weatherDesc': [{'value': 'Patchy rain nearby'}], 'weatherIconUrl': [{'value': ''}], 'winddir16Point': 'W', 'winddirDegree': '269', 'windspeedKmph': '32', 'windspeedMiles': '20'}, {'DewPointC': '18', 'DewPointF': '64', 'FeelsLikeC': '30', 'FeelsLikeF': '86', 'HeatIndexC': '30', 'HeatIndexF': '86', 'WindChillC': '29', 'WindChillF': '84', 'WindGustKmph': '41', 'WindGustMiles': '25', 'chanceoffog': '0', 'chanceoffrost': '0', 'chanceofhightemp': '88', 'chanceofovercast': '89', 'chanceofrain': '79', 'chanceofremdry': '0', 'chanceofsnow': '0', 'chanceofsunshine': '0', 'chanceofthunder': '0', 'chanceofwindy': '0', 'cloudcover': '89', 'diffRad': '161.3', 'humidity': '50', 'precipInches': '0.0', 'precipMM': '0.0', 'pressure': '1008', 'pressureInches': '30', 'shortRad': '967.9', 'tempC': '29', 'tempF': '84', 'time': '1200', 'uvIndex': '12', 'visibility': '10', 'visibilityMiles': '6', 'weatherCode': '176', 'weatherDesc': [{'value': 'Patchy rain nearby'}], 'weatherIconUrl': [{'value': ''}], 'winddir16Point': 'W', 'winddirDegree': '273', 'windspeedKmph': '35', 'windspeedMiles': '22'}, {'DewPointC': '17', 'DewPointF': '63', 'FeelsLikeC': '29', 'FeelsLikeF': '85', 'HeatIndexC': '29', 'HeatIndexF': '85', 'WindChillC': '29', 'WindChillF': '83', 'WindGustKmph': '43', 'WindGustMiles': '27', 'chanceoffog': '0', 'chanceoffrost': '0', 'chanceofhightemp': '87', 'chanceofovercast': '87', 'chanceofrain': '71', 'chanceofremdry': '0', 'chanceofsnow': '0', 'chanceofsunshine': '0', 'chanceofthunder': '0', 'chanceofwindy': '0', 'cloudcover': '84', 'diffRad': '218.2', 'humidity': '50', 'precipInches': '0.0', 'precipMM': '0.0', 'pressure': '1006', 'pressureInches': '30', 'shortRad': '791.9', 'tempC': '29', 'tempF': '83', 'time': '1500', 'uvIndex': '4', 'visibility': '10', 'visibilityMiles': '6', 'weatherCode': '176', 'weatherDesc': [{'value': 'Patchy rain nearby'}], 'weatherIconUrl': [{'value': ''}], 'winddir16Point': 'W', 'winddirDegree': '273', 'windspeedKmph': '37', 'windspeedMiles': '23'}, {'DewPointC': '19', 'DewPointF': '66', 'FeelsLikeC': '27', 'FeelsLikeF': '80', 'HeatIndexC': '27', 'HeatIndexF': '80', 'WindChillC': '25', 'WindChillF': '77', 'WindGustKmph': '41', 'WindGustMiles': '26', 'chanceoffog': '0', 'chanceoffrost': '0', 'chanceofhightemp': '28', 'chanceofovercast': '87', 'chanceofrain': '75', 'chanceofremdry': '0', 'chanceofsnow': '0', 'chanceofsunshine': '0', 'chanceofthunder': '0', 'chanceofwindy': '0', 'cloudcover': '52', 'diffRad': '60.5', 'humidity': '69', 'precipInches': '0.0', 'precipMM': '0.0', 'pressure': '1008', 'pressureInches': '30', 'shortRad': '126.2', 'tempC': '25', 'tempF': '77', 'time': '1800', 'uvIndex': '0', 'visibility': '10', 'visibilityMiles': '6', 'weatherCode': '176', 'weatherDesc': [{'value': 'Patchy rain nearby'}], 'weatherIconUrl': [{'value': ''}], 'winddir16Point': 'W', 'winddirDegree': '269', 'windspeedKmph': '34', 'windspeedMiles': '21'}, {'DewPointC': '19', 'DewPointF': '66', 'FeelsLikeC': '25', 'FeelsLikeF': '77', 'HeatIndexC': '25', 'HeatIndexF': '77', 'WindChillC': '23', 'WindChillF': '73', 'WindGustKmph': '37', 'WindGustMiles': '23', 'chanceoffog': '0', 'chanceoffrost': '0', 'chanceofhightemp': '10', 'chanceofovercast': '91', 'chanceofrain': '89', 'chanceofremdry': '0', 'chanceofsnow': '0', 'chanceofsunshine': '0', 'chanceofthunder': '0', 'chanceofwindy': '0', 'cloudcover': '76', 'diffRad': '16.0', 'humidity': '78', 'precipInches': '0.0', 'precipMM': '0.0', 'pressure': '1010', 'pressureInches': '30', 'shortRad': '33.3', 'tempC': '23', 'tempF': '73', 'time': '2100', 'uvIndex': '0', 'visibility': '10', 'visibilityMiles': '6', 'weatherCode': '176', 'weatherDesc': [{'value': 'Patchy rain nearby'}], 'weatherIconUrl': [{'value': ''}], 'winddir16Point': 'W', 'winddirDegree': '265', 'windspeedKmph': '28', 'windspeedMiles': '17'}], 'maxtempC': '29', 'maxtempF': '85', 'mintempC': '21', 'mintempF': '69', 'sunHour': '11.3', 'totalSnow_cm': '0.0', 'uvIndex': '3'}]}\n",
            "rain in Kamandalagondi is 0\n"
          ]
        }
      ]
    },
    {
      "cell_type": "code",
      "source": [
        "url=\"https://httpbin.org/post\"\n",
        "data={\"name\":\"XYZ\",\n",
        "      \"age\":\"22\"}\n",
        "response=requests.post(url,json=data)\n",
        "print(response.json())"
      ],
      "metadata": {
        "colab": {
          "base_uri": "https://localhost:8080/"
        },
        "id": "zpJVI2hNjhx9",
        "outputId": "11ea9e75-2575-4cfb-bdda-5e07f8fcd3bc"
      },
      "execution_count": null,
      "outputs": [
        {
          "output_type": "stream",
          "name": "stdout",
          "text": [
            "{'args': {}, 'data': '{\"name\": \"XYZ\", \"age\": \"22\"}', 'files': {}, 'form': {}, 'headers': {'Accept': '*/*', 'Accept-Encoding': 'gzip, deflate, zstd', 'Content-Length': '28', 'Content-Type': 'application/json', 'Host': 'httpbin.org', 'User-Agent': 'python-requests/2.32.3', 'X-Amzn-Trace-Id': 'Root=1-686e7ee1-1690383e6189887b49c9c014'}, 'json': {'age': '22', 'name': 'XYZ'}, 'origin': '35.199.169.162', 'url': 'https://httpbin.org/post'}\n"
          ]
        }
      ]
    },
    {
      "cell_type": "code",
      "source": [
        "import requests\n",
        "\n",
        "response=requests.get(\"https://catfact.ninja/fact\")\n",
        "print(response.status_code)\n",
        "print(response.json())"
      ],
      "metadata": {
        "id": "N16KokLknhWC",
        "colab": {
          "base_uri": "https://localhost:8080/"
        },
        "outputId": "0187a8ee-1941-404b-d1d8-ea25276299dd"
      },
      "execution_count": null,
      "outputs": [
        {
          "output_type": "stream",
          "name": "stdout",
          "text": [
            "200\n",
            "{'fact': 'Many cats love having their forehead gently stroked.', 'length': 52}\n"
          ]
        }
      ]
    },
    {
      "cell_type": "code",
      "source": [
        "url=\"https://reqres.in/api/users\"\n",
        "headers={\"x-api-key\":\"reqres-free-v1\"}\n",
        "data={\"name\":\"xyz\"\n",
        "        ,\"job\":\"ml engineer\"}\n",
        "response=requests.post(url,json=data,headers=headers)\n",
        "print(response.status_code)\n",
        "print(response.json())"
      ],
      "metadata": {
        "colab": {
          "base_uri": "https://localhost:8080/"
        },
        "id": "Gfa_J343w4PQ",
        "outputId": "5f90a80f-0fec-4f35-ac2b-2a39d638a28a"
      },
      "execution_count": null,
      "outputs": [
        {
          "output_type": "stream",
          "name": "stdout",
          "text": [
            "201\n",
            "{'name': 'xyz', 'job': 'ml engineer', 'id': '68', 'createdAt': '2025-07-11T14:17:43.333Z'}\n"
          ]
        }
      ]
    },
    {
      "cell_type": "code",
      "source": [
        "url=\"https://reqres.in/api/users/495\"\n",
        "headers={\"x-api-key\":\"reqres-free-v1\"}\n",
        "response=requests.put(url,json={\"name\":\"ABC\"},headers=headers)\n",
        "print(response.status_code)\n",
        "print(response.json())"
      ],
      "metadata": {
        "colab": {
          "base_uri": "https://localhost:8080/"
        },
        "id": "GBs1vvSkymAM",
        "outputId": "cbd0a2b7-0381-4f0a-fab0-5d5779e5ab08"
      },
      "execution_count": null,
      "outputs": [
        {
          "output_type": "stream",
          "name": "stdout",
          "text": [
            "200\n",
            "{'name': 'ABC', 'updatedAt': '2025-07-11T14:14:16.132Z'}\n"
          ]
        }
      ]
    },
    {
      "cell_type": "code",
      "source": [
        "url=\"https://reqres.in/api/users/68\"\n",
        "data={\"job\":\"ceo\"}\n",
        "response=requests.patch(url,json=data,headers=headers)\n",
        "print(response.status_code)\n",
        "print(response.json())\n"
      ],
      "metadata": {
        "colab": {
          "base_uri": "https://localhost:8080/"
        },
        "id": "TxeQCSMn1BGE",
        "outputId": "6441eb23-f500-43f5-ea4b-c53f020100ed"
      },
      "execution_count": null,
      "outputs": [
        {
          "output_type": "stream",
          "name": "stdout",
          "text": [
            "200\n",
            "{'job': 'ceo', 'updatedAt': '2025-07-11T14:19:45.268Z'}\n"
          ]
        }
      ]
    },
    {
      "cell_type": "code",
      "source": [],
      "metadata": {
        "id": "Q5ptDWin21sk"
      },
      "execution_count": null,
      "outputs": []
    }
  ]
}